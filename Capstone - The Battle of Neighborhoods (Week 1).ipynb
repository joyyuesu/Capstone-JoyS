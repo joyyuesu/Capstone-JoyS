{
    "nbformat_minor": 1, 
    "cells": [
        {
            "source": "# Business Problem/Objectives:\n\nMetro Phoenix is a metropolitan area, centered on the city of Phoenix, that includes much of the central part of the state of Arizona. It is one of the fastest growing major metropolitan areas, gaining nearly 600,000 residents from 2010 to 2017. As of Census Bureau's 2017 population estimates, Metro ranks 11th largest Metropolitan Area in the nation with 4,737,270 residents. Metro Phoenix has historically been the center of the state's economy,ranks 5th in the nation in economic growth. The economic and population growth in the area draw attentions in the nation and from the world.\nAn investment group is seeking opportunities to invest on real estate rental business in Phoenix metro area in Arizona. They would like to have a general idea on phoenix metro area as how the business located in major suburb cities, are different suburb cities have same rental business potential based the business distributions, how is the business diversity and amenity  and etc. Based on the request, we came across the following objectives:\n1. the business diversities and amenities analysis in the metro phoenix area in order to help with their business decision. \n2. the similarity of the suburb cites based on business distribution to avoid the repeated investments.\n\n# Data:\n\nThe analysis will be performed on each individual suburb cities business data. In order to collect the business data, first of all, we extracted each city latitude and longitude from https://www.latlong.net/. Then based on the geographic location of each city, we use foursquare API  to pull each city's business(ventures) data from https://foursquare.com/\nThe JSON file of each city's ventures data will be downloaded,transformed and appended into a single python dataframe, then the type, popularity of business and similarity of rental market based on each city's business type will be analyzed.\n", 
            "cell_type": "markdown", 
            "metadata": {
                "collapsed": true
            }
        }, 
        {
            "source": "import pandas as pd # library for data analsysis", 
            "cell_type": "code", 
            "metadata": {}, 
            "outputs": [], 
            "execution_count": null
        }
    ], 
    "metadata": {
        "kernelspec": {
            "display_name": "Python 3.5", 
            "name": "python3", 
            "language": "python"
        }, 
        "language_info": {
            "mimetype": "text/x-python", 
            "nbconvert_exporter": "python", 
            "version": "3.5.5", 
            "name": "python", 
            "pygments_lexer": "ipython3", 
            "file_extension": ".py", 
            "codemirror_mode": {
                "version": 3, 
                "name": "ipython"
            }
        }
    }, 
    "nbformat": 4
}